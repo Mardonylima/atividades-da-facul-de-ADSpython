{
  "cells": [
    {
      "cell_type": "markdown",
      "metadata": {
        "id": "view-in-github",
        "colab_type": "text"
      },
      "source": [
        "<a href=\"https://colab.research.google.com/github/Mardonylima/atividades-da-facul-de-ADSpython/blob/main/Ol%C3%A1%2C_este_%C3%A9_o_Colaboratory.ipynb\" target=\"_parent\"><img src=\"https://colab.research.google.com/assets/colab-badge.svg\" alt=\"Open In Colab\"/></a>"
      ]
    },
    {
      "cell_type": "code",
      "source": [
        "cont = 0\n",
        "\n",
        "while (cont < 10):\n",
        "  print(cont +1)\n",
        "  cont+=1"
      ],
      "metadata": {
        "id": "OSsBFku_HGa7"
      },
      "execution_count": null,
      "outputs": []
    },
    {
      "cell_type": "code",
      "source": [
        "n1 = int(input('digite um numero inteiro maior que 1!!  '))\n",
        "cont = 0\n",
        "while(cont <= n1): \n",
        "  print(cont)\n",
        "  cont += 1 "
      ],
      "metadata": {
        "id": "UeFDIWBxHM1x"
      },
      "execution_count": null,
      "outputs": []
    },
    {
      "cell_type": "code",
      "source": [
        "n1 = 30\n",
        "cont = 0\n",
        "while(cont <= n1): \n",
        "  if(n1 > 1):\n",
        "    print(cont)\n",
        "  cont += 1"
      ],
      "metadata": {
        "id": "C4zDsl7KIYsy"
      },
      "execution_count": null,
      "outputs": []
    },
    {
      "cell_type": "code",
      "source": [
        "n1 = int(input('digite um numero maior que 1!!  '))\n",
        "cont = 0 \n",
        "listanumerica = []\n",
        "while (cont <= n1):\n",
        "  listanumerica.append(cont)\n",
        "print(sum(listanumerica))"
      ],
      "metadata": {
        "id": "zAlTtx6GM5WH"
      },
      "execution_count": null,
      "outputs": []
    },
    {
      "cell_type": "code",
      "source": [
        "n1 = int(input('digite um numero maior que 1!!  '))\n",
        "cont = 0 \n",
        "soma = 0 \n",
        "while(cont <= n1):\n",
        "  soma += cont\n",
        "  cont += 1 \n",
        "print(soma)"
      ],
      "metadata": {
        "id": "SWIY-yZdN4qk",
        "outputId": "5e919f9d-29de-4a80-9511-68545d254b36",
        "colab": {
          "base_uri": "https://localhost:8080/"
        }
      },
      "execution_count": 10,
      "outputs": [
        {
          "output_type": "stream",
          "name": "stdout",
          "text": [
            "digite um numero maior que 1!!  5\n",
            "15\n"
          ]
        }
      ]
    },
    {
      "cell_type": "code",
      "source": [
        "senha = int(input('digite sua senha:'))\n",
        "senhacerta = 1234\n",
        "cont = 1\n",
        "while (cont < 3):\n",
        " cont += 1\n",
        "if(senhacerta == senha):\n",
        "  break\n",
        "else :\n",
        "  print('deu certo nao, tenta ai de novo ><')\n",
        "  senhacerta = input('diite novamente!!')\n",
        "if(cont == 3):\n",
        "  print('sua senha foi bloqueada!!!')\n",
        "else :\n",
        "  print('login feito, parabens!! ')\n",
        "             \n"
      ],
      "metadata": {
        "id": "83A0JUb0Oric"
      },
      "execution_count": null,
      "outputs": []
    },
    {
      "cell_type": "code",
      "source": [
        "animais = []\n",
        "animal = input('informe mm nome de Animais: ') \n",
        "\n",
        "while(animal.isdigit() == False ):\n",
        "  animais.append(animal)\n",
        "  animal = input('digite um nome de animal: ')\n",
        "\n",
        "animais"
      ],
      "metadata": {
        "id": "1wdQvCrTY2eQ"
      },
      "execution_count": null,
      "outputs": []
    }
  ],
  "metadata": {
    "colab": {
      "name": "Olá, este é o Colaboratory",
      "toc_visible": true,
      "provenance": [],
      "include_colab_link": true
    },
    "kernelspec": {
      "display_name": "Python 3",
      "name": "python3"
    }
  },
  "nbformat": 4,
  "nbformat_minor": 0
}