{
  "cells": [
    {
      "cell_type": "markdown",
      "metadata": {
        "id": "view-in-github",
        "colab_type": "text"
      },
      "source": [
        "<a href=\"https://colab.research.google.com/github/Mardonylima/atividades-da-facul-de-ADSpython/blob/main/Welcome_To_Colaboratory.ipynb\" target=\"_parent\"><img src=\"https://colab.research.google.com/assets/colab-badge.svg\" alt=\"Open In Colab\"/></a>"
      ]
    },
    {
      "cell_type": "code",
      "source": [
        "#1 escreva uma função que recebe uma lista de strings e retorna:\n",
        "# apenas as palavras que começam com a letra A\n",
        "# a quantidade de palavras encontradas"
      ],
      "metadata": {
        "id": "etFr--mGGbWi"
      },
      "execution_count": 9,
      "outputs": []
    },
    {
      "cell_type": "code",
      "source": [
        "def listaA(palavras):\n",
        "  digitoA = []\n",
        "  for i in palavras:\n",
        "    if i[0] == 'a':\n",
        "      digitoA.append(i)\n",
        "  print(len(digitoA))\n",
        "  return digitoA"
      ],
      "metadata": {
        "id": "Nl5e4rwiP4ft"
      },
      "execution_count": 22,
      "outputs": []
    },
    {
      "cell_type": "code",
      "source": [
        "nomes = ['alex', 'joao', 'alan', 'amanda', 'anne']\n",
        "listaA(nomes)"
      ],
      "metadata": {
        "id": "1KqksjoiWlVX",
        "outputId": "0ac9863b-f1a7-4a8a-db25-596c52425200",
        "colab": {
          "base_uri": "https://localhost:8080/"
        }
      },
      "execution_count": 23,
      "outputs": [
        {
          "output_type": "stream",
          "name": "stdout",
          "text": [
            "4\n"
          ]
        },
        {
          "output_type": "execute_result",
          "data": {
            "text/plain": [
              "['alex', 'alan', 'amanda', 'anne']"
            ]
          },
          "metadata": {},
          "execution_count": 23
        }
      ]
    },
    {
      "cell_type": "code",
      "source": [
        "#2 escreva uma função que receba uma lista de números e retorne o produto desses números.\n",
        "def produtos(numeros):\n",
        "  resultado = 1 \n",
        "  for n in numeros:\n",
        "    resultado *= n\n",
        "    print(resultado)\n",
        "  return resultado\n",
        "\n",
        "listaNumeros = [3, 4, 2, 6, 7,]\n",
        "produtos(listaNumeros)"
      ],
      "metadata": {
        "id": "L8IL985FSzxD",
        "outputId": "455719b1-5bbe-4ea5-9416-bbd58d944c5d",
        "colab": {
          "base_uri": "https://localhost:8080/"
        }
      },
      "execution_count": 25,
      "outputs": [
        {
          "output_type": "stream",
          "name": "stdout",
          "text": [
            "3\n",
            "12\n",
            "24\n",
            "144\n",
            "1008\n"
          ]
        },
        {
          "output_type": "execute_result",
          "data": {
            "text/plain": [
              "1008"
            ]
          },
          "metadata": {},
          "execution_count": 25
        }
      ]
    },
    {
      "cell_type": "code",
      "source": [
        "#3 escreva uma função que receba uma lista de números e retorne a soma dos números pares.\n",
        "def somatorio(numeros):\n",
        "  soma = 0\n",
        "  for n in numeros:\n",
        "    if n % 2 ==0:\n",
        "      soma += n\n",
        "      print(soma)\n",
        "  return soma\n",
        "\n",
        "listaSoma = [3, 4, 2, 6, 7,]\n",
        "somatorio(listaSoma)"
      ],
      "metadata": {
        "id": "QbLx1v9OTOFk",
        "outputId": "2ce8825a-1da1-473f-db3b-6307f6d71535",
        "colab": {
          "base_uri": "https://localhost:8080/"
        }
      },
      "execution_count": 30,
      "outputs": [
        {
          "output_type": "stream",
          "name": "stdout",
          "text": [
            "4\n",
            "6\n",
            "12\n"
          ]
        },
        {
          "output_type": "execute_result",
          "data": {
            "text/plain": [
              "12"
            ]
          },
          "metadata": {},
          "execution_count": 30
        }
      ]
    },
    {
      "cell_type": "code",
      "source": [
        "#4 função recebe uma lista de nomes, e retorne a string com o maior número de caracteres.\n",
        "users = ['zeca', 'anastacio', 'josefina', 'ivo', 'amaralino']\n",
        "\n",
        "def maiorString(users):\n",
        "  maior = ' '\n",
        "  for u in users:\n",
        "    if (len(u) >= len(maior)):\n",
        "      maior = u\n",
        "  return maior\n",
        "\n",
        "maiorString(users)"
      ],
      "metadata": {
        "id": "HbH5jO5kTX8l",
        "outputId": "62ebe6a5-e3b1-49dc-cb2e-18a5dfef40fd",
        "colab": {
          "base_uri": "https://localhost:8080/",
          "height": 35
        }
      },
      "execution_count": 32,
      "outputs": [
        {
          "output_type": "execute_result",
          "data": {
            "text/plain": [
              "'amaralino'"
            ],
            "application/vnd.google.colaboratory.intrinsic+json": {
              "type": "string"
            }
          },
          "metadata": {},
          "execution_count": 32
        }
      ]
    }
  ],
  "metadata": {
    "colab": {
      "name": "Welcome To Colaboratory",
      "provenance": [],
      "include_colab_link": true
    },
    "kernelspec": {
      "display_name": "Python 3",
      "name": "python3"
    }
  },
  "nbformat": 4,
  "nbformat_minor": 0
}