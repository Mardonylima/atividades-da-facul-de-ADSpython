{
  "cells": [
    {
      "cell_type": "markdown",
      "metadata": {
        "id": "view-in-github",
        "colab_type": "text"
      },
      "source": [
        "<a href=\"https://colab.research.google.com/github/Mardonylima/atividades-da-facul-de-ADSpython/blob/main/Ol%C3%A1%2C_este_%C3%A9_o_Colaboratory.ipynb\" target=\"_parent\"><img src=\"https://colab.research.google.com/assets/colab-badge.svg\" alt=\"Open In Colab\"/></a>"
      ]
    },
    {
      "cell_type": "code",
      "source": [
        "def my_first_function():\n",
        "  print('minha primeira função')"
      ],
      "metadata": {
        "id": "EKFih-abG4zr"
      },
      "execution_count": 1,
      "outputs": []
    },
    {
      "cell_type": "code",
      "source": [
        "my_first_function()"
      ],
      "metadata": {
        "id": "VuCYo54AHsPx",
        "outputId": "68a3b42d-5b70-4123-e9fb-da9f6ba4a3b9",
        "colab": {
          "base_uri": "https://localhost:8080/"
        }
      },
      "execution_count": 2,
      "outputs": [
        {
          "output_type": "stream",
          "name": "stdout",
          "text": [
            "minha primeira função\n"
          ]
        }
      ]
    },
    {
      "cell_type": "code",
      "source": [
        "def pronomeTratam(pronome):\n",
        "  print(pronome + \" Mardony\")"
      ],
      "metadata": {
        "id": "GGK5QZIqIjij"
      },
      "execution_count": 3,
      "outputs": []
    },
    {
      "cell_type": "code",
      "source": [
        "pronomeTratam('Doutor')\n",
        "pronomeTratam('Ilmo')\n",
        "pronomeTratam('Seu')"
      ],
      "metadata": {
        "id": "IoETtQBQIzXD",
        "outputId": "d5868f1e-bb8c-460c-9861-ebdb158f10e9",
        "colab": {
          "base_uri": "https://localhost:8080/"
        }
      },
      "execution_count": 4,
      "outputs": [
        {
          "output_type": "stream",
          "name": "stdout",
          "text": [
            "Doutor Mardony\n",
            "Ilmo Mardony\n",
            "Seu Mardony\n"
          ]
        }
      ]
    },
    {
      "cell_type": "code",
      "source": [
        "def tratamNome(pronome, nome):\n",
        "  print(pronome, nome)\n"
      ],
      "metadata": {
        "id": "rZ7PqzJaJ01L"
      },
      "execution_count": 6,
      "outputs": []
    },
    {
      "cell_type": "code",
      "source": [
        "tratamNome('zé','da manga')"
      ],
      "metadata": {
        "id": "9MFoFFzVKTl1",
        "outputId": "6307bc22-1123-4c10-85d5-1486f5b65294",
        "colab": {
          "base_uri": "https://localhost:8080/"
        }
      },
      "execution_count": 7,
      "outputs": [
        {
          "output_type": "stream",
          "name": "stdout",
          "text": [
            "zé da manga\n"
          ]
        }
      ]
    },
    {
      "cell_type": "code",
      "source": [
        "def nomeAno(nome, anos):\n",
        "  idade = 2023 - anos\n",
        "  print(nome, idade,'anos')"
      ],
      "metadata": {
        "id": "hF0JCgm5K1Sm"
      },
      "execution_count": 10,
      "outputs": []
    },
    {
      "cell_type": "code",
      "source": [
        "nomeAno('mardony',2003)"
      ],
      "metadata": {
        "id": "CZ23Ye3eNBke",
        "outputId": "5cf1645e-86b7-4ac7-ad64-5a0063bc79a7",
        "colab": {
          "base_uri": "https://localhost:8080/"
        }
      },
      "execution_count": 11,
      "outputs": [
        {
          "output_type": "stream",
          "name": "stdout",
          "text": [
            "mardony 20 anos\n"
          ]
        }
      ]
    },
    {
      "cell_type": "code",
      "source": [
        "def boasVindas(nome, cargo):\n",
        "  print('Olá, '+ cargo + ' '+ nome)"
      ],
      "metadata": {
        "id": "lOK3vqHNOAHS"
      },
      "execution_count": 12,
      "outputs": []
    },
    {
      "cell_type": "code",
      "source": [
        "boasVindas('Amaralina', 'Engenheira')\n",
        "boasVindas('Jorge', 'Carimbador')\n",
        "boasVindas('Maria', 'Sargento')\n",
        "boasVindas('Lucas','')"
      ],
      "metadata": {
        "id": "FoysHPS4OCv7",
        "outputId": "8941bf8b-0407-4c73-cc49-d324dc09556b",
        "colab": {
          "base_uri": "https://localhost:8080/"
        }
      },
      "execution_count": 15,
      "outputs": [
        {
          "output_type": "stream",
          "name": "stdout",
          "text": [
            "Olá, Engenheira Amaralina\n",
            "Olá, Carimbador Jorge\n",
            "Olá, Sargento Maria\n",
            "Olá,  Lucas\n"
          ]
        }
      ]
    },
    {
      "cell_type": "code",
      "source": [
        "def pesoAltura(peso, altura):\n",
        "  imc = peso / altura ** 2 \n",
        "  return imc\n",
        "\n",
        "altura1 = float(input('imforme sua altura: '))\n",
        "peso1 = float(input('imforme seu peso: '))\n",
        "\n",
        "pesoAltura(altura1, peso1) <30 "
      ],
      "metadata": {
        "id": "YhPCzkFqOQRr",
        "outputId": "11f552b2-2976-40f9-d6dd-f47dd15ed46c",
        "colab": {
          "base_uri": "https://localhost:8080/"
        }
      },
      "execution_count": 31,
      "outputs": [
        {
          "name": "stdout",
          "output_type": "stream",
          "text": [
            "imforme sua altura: 1.71\n",
            "imforme seu peso: 65.2\n"
          ]
        },
        {
          "output_type": "execute_result",
          "data": {
            "text/plain": [
              "True"
            ]
          },
          "metadata": {},
          "execution_count": 31
        }
      ]
    },
    {
      "cell_type": "code",
      "source": [
        "def calculo(emprestimo, tempo):\n",
        "  return  emprestimo *0.025* tempo\n",
        "\n",
        "emprestimo1 = float(input('qual o valor que você quer: '))\n",
        "tempo1 = float(input('em qual tempo você vai pagar: '))\n",
        "\n",
        "calculo(emprestimo1, tempo1)"
      ],
      "metadata": {
        "id": "XZzMbpNSZ8UZ",
        "outputId": "451f5933-aae8-44b1-92d7-ffbf9b52c277",
        "colab": {
          "base_uri": "https://localhost:8080/"
        }
      },
      "execution_count": 41,
      "outputs": [
        {
          "name": "stdout",
          "output_type": "stream",
          "text": [
            "qual o valor que você quer: 1000\n",
            "em qual tempo você vai pagar: 5\n"
          ]
        },
        {
          "output_type": "execute_result",
          "data": {
            "text/plain": [
              "125.0"
            ]
          },
          "metadata": {},
          "execution_count": 41
        }
      ]
    },
    {
      "cell_type": "code",
      "source": [
        "def valorTotalEmprestimo(valor, tempo):\n",
        "  return valor + calculo(valor, tempo)"
      ],
      "metadata": {
        "id": "PBnIWUoVdhys"
      },
      "execution_count": 38,
      "outputs": []
    },
    {
      "cell_type": "code",
      "source": [
        "valorTotalEmprestimo(1000, 12)"
      ],
      "metadata": {
        "id": "XtXwrFxLenac",
        "outputId": "e21f4c66-7f95-4127-fc47-3bb92b6ebd03",
        "colab": {
          "base_uri": "https://localhost:8080/"
        }
      },
      "execution_count": 40,
      "outputs": [
        {
          "output_type": "execute_result",
          "data": {
            "text/plain": [
              "1300.0"
            ]
          },
          "metadata": {},
          "execution_count": 40
        }
      ]
    }
  ],
  "metadata": {
    "colab": {
      "name": "Olá, este é o Colaboratory",
      "toc_visible": true,
      "provenance": [],
      "include_colab_link": true
    },
    "kernelspec": {
      "display_name": "Python 3",
      "name": "python3"
    }
  },
  "nbformat": 4,
  "nbformat_minor": 0
}