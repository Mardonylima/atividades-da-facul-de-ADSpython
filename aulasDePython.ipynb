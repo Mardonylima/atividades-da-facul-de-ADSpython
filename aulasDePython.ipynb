{
  "nbformat": 4,
  "nbformat_minor": 0,
  "metadata": {
    "colab": {
      "provenance": [],
      "authorship_tag": "ABX9TyN/fJj5HUhiWq/f59GozVaI",
      "include_colab_link": true
    },
    "kernelspec": {
      "name": "python3",
      "display_name": "Python 3"
    },
    "language_info": {
      "name": "python"
    }
  },
  "cells": [
    {
      "cell_type": "markdown",
      "metadata": {
        "id": "view-in-github",
        "colab_type": "text"
      },
      "source": [
        "<a href=\"https://colab.research.google.com/github/Mardonylima/atividades-da-facul-de-ADSpython/blob/main/aulasDePython.ipynb\" target=\"_parent\"><img src=\"https://colab.research.google.com/assets/colab-badge.svg\" alt=\"Open In Colab\"/></a>"
      ]
    },
    {
      "cell_type": "code",
      "source": [
        "# um simples print \n",
        "print (\" olá, mundo\")"
      ],
      "metadata": {
        "id": "wW8_zKe4xdK2"
      },
      "execution_count": null,
      "outputs": []
    },
    {
      "cell_type": "code",
      "source": [
        "# programa pra saber a nota de um aluno\n",
        "# com quebra de linha\n",
        "n1 = float(input(\"digite uma a primeira nota: \"))\n",
        "n2 = float(input(\"digite uma a segunda nota: \"))\n",
        "n3 = float(input(\"digite uma a terceira nota: \"))\n",
        "\n",
        "soma = ((n1 + n2 + n3) /3)\n",
        "\n",
        "\n",
        "print(\"sua primeira nota é :\",n1)\n",
        "print(\"sua segunda nota é : \",n2)\n",
        "print(\"sua terceira nota é :\",n3)\n",
        "print(\"e sua média é :\" ,soma)"
      ],
      "metadata": {
        "id": "qwSqcYnQxfLo"
      },
      "execution_count": null,
      "outputs": []
    },
    {
      "cell_type": "code",
      "source": [
        "# programa pra saber a nota de um aluno\n",
        "# tudo na mesma linha usando o format\n",
        "n1 = float(input(\"digite uma a primeira nota: \"))\n",
        "n2 = float(input(\"digite uma a segunda nota: \"))\n",
        "n3 = float(input(\"digite uma a terceira nota: \"))\n",
        "\n",
        "soma = ((n1 + n2 + n3) /3)\n",
        "\n",
        "print(\"sua primeira nota é : {}, sua segunda nota é :{} , sua terceira nota é :{} e sua medía é:  ,{}\" .format(n1 , n2 , n3, soma))"
      ],
      "metadata": {
        "id": "GjJAADEIxfRJ"
      },
      "execution_count": null,
      "outputs": []
    },
    {
      "cell_type": "code",
      "source": [
        "# programa pra saber a nota de um aluno\n",
        "# tudo na mesma linha usando o format mas com codições \n",
        "# if (para aprovado) e else (para reprovado) \n",
        "n1 = float(input(\"digite uma a primeira nota: \"))\n",
        "n2 = float(input(\"digite uma a segunda nota: \"))\n",
        "n3 = float(input(\"digite uma a terceira nota: \"))\n",
        "\n",
        "soma = ((n1 + n2 + n3) /3)\n",
        "\n",
        "print(\"sua primeira nota é : {}, sua segunda nota é :{} , sua terceira nota é :{} e sua medía é:  ,{}\" .format(n1 , n2 , n3, soma))\n",
        "\n",
        "if(soma >=7):\n",
        "  print(\"aprovado\")\n",
        "else:\n",
        "    print(\"reprovado\")"
      ],
      "metadata": {
        "id": "eET5_SgaxfWP"
      },
      "execution_count": null,
      "outputs": []
    },
    {
      "cell_type": "code",
      "execution_count": null,
      "metadata": {
        "id": "TwD_RhWfkoe6"
      },
      "outputs": [],
      "source": [
        "# programa pra saber a nota de um aluno\n",
        "# tudo na mesma linha usando o format mas com codições \n",
        "# if (para aprovado), elif (para recuperação) e else (para reprovado) \n",
        "n1 = float(input(\"digite uma a primeira nota: \"))\n",
        "n2 = float(input(\"digite uma a segunda nota: \"))\n",
        "n3 = float(input(\"digite uma a terceira nota: \"))\n",
        "\n",
        "soma = ((n1 + n2 + n3) / 3)\n",
        "\n",
        "print(\n",
        "    \"sua primeira nota é : {}, sua segunda nota é :{} , sua terceira nota é :{} e sua medía é:  ,{}\".format(n1, n2, n3, soma))\n",
        "\n",
        "if (soma >= 7):\n",
        "    print(\"aprovado\")\n",
        "\n",
        "elif (soma >= 4 and soma < 7):\n",
        "    print(\"recuperação\")\n",
        "\n",
        "else:\n",
        "    print(\"reprovado\")"
      ]
    },
    {
      "cell_type": "code",
      "source": [
        "# fazer uma lista de números\n",
        "num = [\"1\", \"4\", \"3\", \"6\", \"9\"]"
      ],
      "metadata": {
        "id": "O6_vmgBvy6Ue"
      },
      "execution_count": 18,
      "outputs": []
    },
    {
      "cell_type": "code",
      "source": [
        "len(\"num\")"
      ],
      "metadata": {
        "colab": {
          "base_uri": "https://localhost:8080/"
        },
        "id": "KX73aZRWy6ke",
        "outputId": "074ddb87-5562-4257-a9c4-1a434edfdc92"
      },
      "execution_count": 20,
      "outputs": [
        {
          "output_type": "execute_result",
          "data": {
            "text/plain": [
              "3"
            ]
          },
          "metadata": {},
          "execution_count": 20
        }
      ]
    },
    {
      "cell_type": "code",
      "source": [
        "alunos = [\"maria\" , \"julia\" , \"pablo\" , \"daniel\" , \"vitor\" ]"
      ],
      "metadata": {
        "id": "xrPOhU-9y6pH"
      },
      "execution_count": 21,
      "outputs": []
    },
    {
      "cell_type": "code",
      "source": [
        "alunos [3] = \"mardony\""
      ],
      "metadata": {
        "id": "0cRylIqcy6v6"
      },
      "execution_count": 22,
      "outputs": []
    },
    {
      "cell_type": "code",
      "source": [
        "alunos.append('alex')\n",
        "alunos"
      ],
      "metadata": {
        "colab": {
          "base_uri": "https://localhost:8080/"
        },
        "id": "q2uza-sLy61S",
        "outputId": "91e5ff48-893c-4d36-e0ce-82766838d8de"
      },
      "execution_count": 23,
      "outputs": [
        {
          "output_type": "execute_result",
          "data": {
            "text/plain": [
              "['maria', 'julia', 'pablo', 'mardony', 'vitor', 'alex']"
            ]
          },
          "metadata": {},
          "execution_count": 23
        }
      ]
    },
    {
      "cell_type": "code",
      "source": [
        "alunos.append(input('informe seu nome: '))\n",
        "alunos"
      ],
      "metadata": {
        "colab": {
          "base_uri": "https://localhost:8080/"
        },
        "id": "ESJqIW1fy642",
        "outputId": "f665b1a1-9f16-4dec-eb98-b0645a5947f6"
      },
      "execution_count": 25,
      "outputs": [
        {
          "name": "stdout",
          "output_type": "stream",
          "text": [
            "informe seu nome: zé\n"
          ]
        },
        {
          "output_type": "execute_result",
          "data": {
            "text/plain": [
              "['maria', 'julia', 'pablo', 'mardony', 'vitor', 'alex', 'mardony', 'zé']"
            ]
          },
          "metadata": {},
          "execution_count": 25
        }
      ]
    },
    {
      "cell_type": "code",
      "source": [
        "nome = input(' vamos ver se seu nome esta na lista ')\n",
        "\n",
        "if nome in alunos :\n",
        "    print('esse aluno {}, esta nossa lista'.format(nome))\n",
        "else : \n",
        "    print('nao tem esse aluno {} na nossa lista'.format(nome))"
      ],
      "metadata": {
        "colab": {
          "base_uri": "https://localhost:8080/"
        },
        "id": "ozxqC5elzHDC",
        "outputId": "452d7134-022b-4f77-c020-71f7ef413bcb"
      },
      "execution_count": 29,
      "outputs": [
        {
          "output_type": "stream",
          "name": "stdout",
          "text": [
            " vamos ver se seu nome esta na lista zé\n",
            "esse aluno zé, esta nossa lista\n"
          ]
        }
      ]
    },
    {
      "cell_type": "code",
      "source": [
        "# programa pra mostrar todos os numeros numa lista. (o range() vai até 15)\n",
        "numeros = []\n",
        "for num in range(15):\n",
        "  numeros.append(num)\n",
        "numeros"
      ],
      "metadata": {
        "colab": {
          "base_uri": "https://localhost:8080/"
        },
        "id": "lOhkbl56zHHG",
        "outputId": "6082c93e-d32b-42d9-f966-f3c123905c7c"
      },
      "execution_count": 30,
      "outputs": [
        {
          "output_type": "execute_result",
          "data": {
            "text/plain": [
              "[0, 1, 2, 3, 4, 5, 6, 7, 8, 9, 10, 11, 12, 13, 14]"
            ]
          },
          "metadata": {},
          "execution_count": 30
        }
      ]
    },
    {
      "cell_type": "code",
      "source": [
        "# programa pra mostrar o dodro \n",
        "dobro = []\n",
        "for num in numeros:\n",
        "  dobro.append(num * 2) \n",
        "dobro"
      ],
      "metadata": {
        "colab": {
          "base_uri": "https://localhost:8080/"
        },
        "id": "hIIkZi8czHJ9",
        "outputId": "81402964-b009-4edc-ceaf-d0fee4679022"
      },
      "execution_count": 31,
      "outputs": [
        {
          "output_type": "execute_result",
          "data": {
            "text/plain": [
              "[0, 2, 4, 6, 8, 10, 12, 14, 16, 18, 20, 22, 24, 26, 28]"
            ]
          },
          "metadata": {},
          "execution_count": 31
        }
      ]
    },
    {
      "cell_type": "code",
      "source": [
        "# programa pra mostra todos os numeros pares na lista 'numeros[]'. (o range() vai até 15)\n",
        "for num in numeros:\n",
        "  if numeros[num] % 2 == 0: \n",
        "    print(numeros[num])"
      ],
      "metadata": {
        "colab": {
          "base_uri": "https://localhost:8080/"
        },
        "id": "KKZtYJ6pzHL5",
        "outputId": "368c60c1-348e-41ad-ad98-d0d09f908b30"
      },
      "execution_count": 32,
      "outputs": [
        {
          "output_type": "stream",
          "name": "stdout",
          "text": [
            "0\n",
            "2\n",
            "4\n",
            "6\n",
            "8\n",
            "10\n",
            "12\n",
            "14\n"
          ]
        }
      ]
    },
    {
      "cell_type": "code",
      "source": [
        "# criar um programa que lista os números de 1 a 10 para esto, precisaremos de um contador\n",
        "\n",
        "cont = 1\n",
        "numeros = []\n",
        "\n",
        "while (cont <= 10):\n",
        "    numeros.append(cont)\n",
        "    cont += 1\n",
        "\n",
        "numeros\n"
      ],
      "metadata": {
        "colab": {
          "base_uri": "https://localhost:8080/"
        },
        "id": "d0Pm3mFdnAQa",
        "outputId": "4eab0072-c909-4651-cd73-6e6636d290da"
      },
      "execution_count": 42,
      "outputs": [
        {
          "output_type": "execute_result",
          "data": {
            "text/plain": [
              "[1, 2, 3, 4, 5, 6, 7, 8, 9, 10]"
            ]
          },
          "metadata": {},
          "execution_count": 42
        }
      ]
    },
    {
      "cell_type": "code",
      "source": [
        "#programa pra saber quantos alunos foram aprovados e reprovados \n",
        "n1 = float(input('digite sua nota: '))\n",
        "n2 = float(input('digite sua nota: '))\n",
        "n3 = float(input('digite sua nota: '))\n",
        "n4 = float(input('digite sua nota: '))\n",
        "\n",
        "notas = [n1, n2, n3, n4]\n",
        "\n",
        "aprovado = 0\n",
        "reprovado = 0\n",
        "for nota in notas:\n",
        "    if (nota >= 7):\n",
        "        aprovado += 1\n",
        "    else:\n",
        "        reprovado += 1\n",
        "\n",
        "print('aprovado', aprovado)\n",
        "print('reprovado', reprovado)"
      ],
      "metadata": {
        "colab": {
          "base_uri": "https://localhost:8080/"
        },
        "id": "vBl5teG9nDVW",
        "outputId": "ada22154-647c-4937-e3d3-24debf5168e7"
      },
      "execution_count": 35,
      "outputs": [
        {
          "output_type": "stream",
          "name": "stdout",
          "text": [
            "digite sua nota: 9\n",
            "digite sua nota: 9\n",
            "digite sua nota: 5\n",
            "digite sua nota: 7\n",
            "aprovado 3\n",
            "reprovado 1\n"
          ]
        }
      ]
    },
    {
      "cell_type": "code",
      "source": [
        "# modifique o codigo anterior para solicitar um tamanho da lista a e com o laço while\n",
        "# crie a nova lista do tamanho desejado\n",
        "\n",
        "\n",
        "tamanho = int(input(\"Digite o tamanho da lista: \"))\n",
        "\n",
        "cont = 1\n",
        "\n",
        "numeros = []\n",
        "\n",
        "while cont <= tamanho:\n",
        "    numeros.append(cont)\n",
        "    cont += 1\n",
        "\n",
        "\n",
        "num"
      ],
      "metadata": {
        "colab": {
          "base_uri": "https://localhost:8080/"
        },
        "id": "F8AhdhOqnGap",
        "outputId": "0062b21c-d425-4d47-9a58-64c8f867e2cf"
      },
      "execution_count": 47,
      "outputs": [
        {
          "name": "stdout",
          "output_type": "stream",
          "text": [
            "Digite o tamanho da lista: 9\n"
          ]
        },
        {
          "output_type": "execute_result",
          "data": {
            "text/plain": [
              "[1, 2, 3, 4, 5, 6, 7, 8, 9]"
            ]
          },
          "metadata": {},
          "execution_count": 47
        }
      ]
    },
    {
      "cell_type": "code",
      "source": [
        "# par ou impar\n",
        "num = int(input('digite um numero: '))\n",
        "\n",
        "while (num >= 0):\n",
        "    if (num % 2 == 0):\n",
        "        print(\"é par\")\n",
        "        num = int(input('digite um numero: '))\n",
        "    else:\n",
        "        print(\"é impar\")\n",
        "        num = int(input('digite um numero: '))\n",
        "\n",
        "print('acabou!!!')"
      ],
      "metadata": {
        "id": "S8NuMoS4nKRH"
      },
      "execution_count": null,
      "outputs": []
    },
    {
      "cell_type": "code",
      "source": [
        "# programa que inicia em 0 e continua até o laço while terminar \n",
        "cont = 0\n",
        "\n",
        "while (cont < 10):\n",
        "    print(cont + 1)\n",
        "    cont += 1\n"
      ],
      "metadata": {
        "colab": {
          "base_uri": "https://localhost:8080/"
        },
        "id": "Hup8awhNnwS_",
        "outputId": "9bbe34d9-0673-43b5-d866-a70b90c5c707"
      },
      "execution_count": 48,
      "outputs": [
        {
          "output_type": "stream",
          "name": "stdout",
          "text": [
            "1\n",
            "2\n",
            "3\n",
            "4\n",
            "5\n",
            "6\n",
            "7\n",
            "8\n",
            "9\n",
            "10\n"
          ]
        }
      ]
    },
    {
      "cell_type": "code",
      "source": [
        "n1 = int(input('digite um numero inteiro maior que 1!!  '))\n",
        "cont = 0\n",
        "while (cont <= n1):\n",
        "    print(cont)\n",
        "    cont += 1"
      ],
      "metadata": {
        "colab": {
          "base_uri": "https://localhost:8080/"
        },
        "id": "Gh24CK_MoEfx",
        "outputId": "8020028f-781c-47f6-e117-e6fd4bf2f3ee"
      },
      "execution_count": 49,
      "outputs": [
        {
          "output_type": "stream",
          "name": "stdout",
          "text": [
            "digite um numero inteiro maior que 1!!  6\n",
            "0\n",
            "1\n",
            "2\n",
            "3\n",
            "4\n",
            "5\n",
            "6\n"
          ]
        }
      ]
    },
    {
      "cell_type": "code",
      "source": [
        "# programa que inicia em 0 e conta até o numero escolhido\n",
        "n1 = 30\n",
        "cont = 0\n",
        "while (cont <= n1):\n",
        "    if (n1 > 1):\n",
        "        print(cont)\n",
        "    cont += 1"
      ],
      "metadata": {
        "colab": {
          "base_uri": "https://localhost:8080/"
        },
        "id": "tiFGgllvoE9O",
        "outputId": "ae4b3dee-ca2d-47ef-87d8-8290d9eeb064"
      },
      "execution_count": 50,
      "outputs": [
        {
          "output_type": "stream",
          "name": "stdout",
          "text": [
            "0\n",
            "1\n",
            "2\n",
            "3\n",
            "4\n",
            "5\n",
            "6\n",
            "7\n",
            "8\n",
            "9\n",
            "10\n",
            "11\n",
            "12\n",
            "13\n",
            "14\n",
            "15\n",
            "16\n",
            "17\n",
            "18\n",
            "19\n",
            "20\n",
            "21\n",
            "22\n",
            "23\n",
            "24\n",
            "25\n",
            "26\n",
            "27\n",
            "28\n",
            "29\n",
            "30\n"
          ]
        }
      ]
    },
    {
      "cell_type": "code",
      "source": [
        " # o código cria uma lista contendo os números de 0 o número digitado pelo usuário até e em seguida calcula a soma desses números.\n",
        "n1 = int(input('Digite um número: '))\n",
        "cont = 0\n",
        "listanumerica = []\n",
        "\n",
        "while cont < n1:\n",
        "    listanumerica.append(cont)\n",
        "    cont += 1\n",
        "\n",
        "print(sum(listanumerica))"
      ],
      "metadata": {
        "colab": {
          "base_uri": "https://localhost:8080/"
        },
        "id": "3ASyUKs7oQM5",
        "outputId": "12b0611a-c0c2-4703-ffcf-b600801ecc0d"
      },
      "execution_count": 54,
      "outputs": [
        {
          "output_type": "stream",
          "name": "stdout",
          "text": [
            "Digite um número: 6\n",
            "15\n"
          ]
        }
      ]
    },
    {
      "cell_type": "code",
      "source": [
        "# o código calcula a soma de todos os números de 0 até o número digitado pelo usuário, incluindo-o, e imprime o resultado.\n",
        "n1 = int(input('digite um numero maior que 1!!  '))\n",
        "cont = 0\n",
        "soma = 0\n",
        "while (cont <= n1):\n",
        "    soma += cont\n",
        "    cont += 1\n",
        "print(soma)"
      ],
      "metadata": {
        "colab": {
          "base_uri": "https://localhost:8080/"
        },
        "id": "E9DOERuOoQ-J",
        "outputId": "fec32265-0bbc-444f-8a88-61b04a58d0a6"
      },
      "execution_count": 56,
      "outputs": [
        {
          "output_type": "stream",
          "name": "stdout",
          "text": [
            "digite um numero maior que 1!!  5\n",
            "15\n"
          ]
        }
      ]
    },
    {
      "cell_type": "code",
      "source": [
        "# um código de tentativas e erros, se o usuario colocar sua senha 3 vezes erradas a senha é bloqueada\n",
        "senha = int(input('Digite sua senha: '))\n",
        "senhacerta = 1234\n",
        "cont = 1\n",
        "\n",
        "while (cont < 3):\n",
        "    cont += 1\n",
        "    if (senhacerta == senha):\n",
        "        print('Login feito, parabéns!!!')\n",
        "        break\n",
        "    else:\n",
        "        print('Senha incorreta! Tente novamente.')\n",
        "        senha = int(input('Digite novamente: '))\n",
        "\n",
        "if (cont == 3 and senhacerta != senha):\n",
        "    print('Sua senha foi bloqueada!!!')\n",
        "else:\n",
        "    print()"
      ],
      "metadata": {
        "id": "4slTvAF4s1iz"
      },
      "execution_count": null,
      "outputs": []
    },
    {
      "cell_type": "code",
      "source": [
        "# código pra adicionar nomes de animais a uma lista, se uma coisa alem de letras entrar no código ele encerra \n",
        "animais = []\n",
        "animal = input('informe mm nome de Animais: ')\n",
        "\n",
        "while (animal.isdigit() == False):\n",
        "    animais.append(animal)\n",
        "    animal = input('digite um nome de animal: ')\n",
        "\n",
        "animais"
      ],
      "metadata": {
        "id": "Epm8j169rN4Q"
      },
      "execution_count": null,
      "outputs": []
    },
    {
      "cell_type": "code",
      "source": [
        "# recebe uma lista de mostra o quadrado dos numeros neles\n",
        "listaNumerica = [1, 2, 4, 8, 16, 32]\n",
        "nlista= list(map(lambda x: x**2, listaNumerica ))\n",
        "nlista"
      ],
      "metadata": {
        "colab": {
          "base_uri": "https://localhost:8080/"
        },
        "id": "nRgFUijq8jH2",
        "outputId": "36438e72-e97c-405c-ce26-6ba1be5c323d"
      },
      "execution_count": 57,
      "outputs": [
        {
          "output_type": "execute_result",
          "data": {
            "text/plain": [
              "[1, 4, 16, 64, 256, 1024]"
            ]
          },
          "metadata": {},
          "execution_count": 57
        }
      ]
    },
    {
      "cell_type": "code",
      "source": [
        "# contar quantos letra tem nas strings\n",
        "listaFrutas = [\"uva\", \"maça\", \"manga\", \"banana\"]\n",
        "Flista = list(map(lambda x: len(x), listaFrutas))\n",
        "Flista "
      ],
      "metadata": {
        "colab": {
          "base_uri": "https://localhost:8080/"
        },
        "id": "LrTAA2Ob8jT4",
        "outputId": "eafaedb5-2d89-4521-c4c0-6019027e8952"
      },
      "execution_count": 58,
      "outputs": [
        {
          "output_type": "execute_result",
          "data": {
            "text/plain": [
              "[3, 4, 5, 6]"
            ]
          },
          "metadata": {},
          "execution_count": 58
        }
      ]
    },
    {
      "cell_type": "code",
      "source": [
        " # pegue um valor e adicione mais 2 reais\n",
        " precos = [9.99, 2.50, 3.45, 7.00, 10.99]\n",
        " Plista = list(map(lambda x: x+2, precos))\n",
        " Plista"
      ],
      "metadata": {
        "colab": {
          "base_uri": "https://localhost:8080/"
        },
        "id": "FOyRYXgX8jWl",
        "outputId": "66878e68-43c7-4931-f61e-1c93f22d9747"
      },
      "execution_count": 59,
      "outputs": [
        {
          "output_type": "execute_result",
          "data": {
            "text/plain": [
              "[11.99, 4.5, 5.45, 9.0, 12.99]"
            ]
          },
          "metadata": {},
          "execution_count": 59
        }
      ]
    },
    {
      "cell_type": "code",
      "source": [
        "#quero apenas os aprovados com as notas a cima de 7\n",
        "notas = [9.2, 5.6, 8.1, 1.9, 10]\n",
        "listaN = list(filter(lambda x: x>=7, notas))\n",
        "listaN"
      ],
      "metadata": {
        "colab": {
          "base_uri": "https://localhost:8080/"
        },
        "id": "B3M87Ywe8jZa",
        "outputId": "78b22a72-86b7-4eda-e224-2c5697ac4ddf"
      },
      "execution_count": 61,
      "outputs": [
        {
          "output_type": "execute_result",
          "data": {
            "text/plain": [
              "[9.2, 8.1, 10]"
            ]
          },
          "metadata": {},
          "execution_count": 61
        }
      ]
    },
    {
      "cell_type": "code",
      "source": [
        "# funções \n",
        "def my_first_function():\n",
        "  print('minha primeira função')"
      ],
      "metadata": {
        "id": "yzid9N2J8jcF"
      },
      "execution_count": 64,
      "outputs": []
    },
    {
      "cell_type": "code",
      "source": [
        "my_first_function()"
      ],
      "metadata": {
        "colab": {
          "base_uri": "https://localhost:8080/"
        },
        "id": "CloJ3R9J90VP",
        "outputId": "edb04e00-f9b5-4b79-898a-949eb7addd96"
      },
      "execution_count": 65,
      "outputs": [
        {
          "output_type": "stream",
          "name": "stdout",
          "text": [
            "minha primeira função\n"
          ]
        }
      ]
    },
    {
      "cell_type": "code",
      "source": [
        "def pronomeTratam(pronome):\n",
        "  print(pronome + \" Mardony\")\n",
        "\n",
        "pronomeTratam('Doutor')\n",
        "pronomeTratam('Ilmo')\n",
        "pronomeTratam('Seu')"
      ],
      "metadata": {
        "colab": {
          "base_uri": "https://localhost:8080/"
        },
        "id": "LKlPEJ0Y8jev",
        "outputId": "a23d45df-82a4-4eb2-8656-1656a904a642"
      },
      "execution_count": 68,
      "outputs": [
        {
          "output_type": "stream",
          "name": "stdout",
          "text": [
            "Doutor Mardony\n",
            "Ilmo Mardony\n",
            "Seu Mardony\n"
          ]
        }
      ]
    },
    {
      "cell_type": "code",
      "source": [
        "def tratamNome(pronome, nome):\n",
        "  print(pronome, nome)\n",
        "\n",
        "tratamNome('zé','da manga')"
      ],
      "metadata": {
        "colab": {
          "base_uri": "https://localhost:8080/"
        },
        "id": "6jKU7A3K8jjm",
        "outputId": "77c6583f-5492-47d0-a973-44f305396c82"
      },
      "execution_count": 70,
      "outputs": [
        {
          "output_type": "stream",
          "name": "stdout",
          "text": [
            "zé da manga\n"
          ]
        }
      ]
    },
    {
      "cell_type": "code",
      "source": [
        "def nomeAno(nome, anos):\n",
        "  idade = 2023 - anos\n",
        "  print(nome, idade,'anos')\n",
        "\n",
        "nomeAno('mardony',2003)"
      ],
      "metadata": {
        "colab": {
          "base_uri": "https://localhost:8080/"
        },
        "id": "Lq0CPrTD8joz",
        "outputId": "7515e406-302e-457e-8254-26862966b5ff"
      },
      "execution_count": 71,
      "outputs": [
        {
          "output_type": "stream",
          "name": "stdout",
          "text": [
            "mardony 20 anos\n"
          ]
        }
      ]
    },
    {
      "cell_type": "code",
      "source": [
        "def boasVindas(nome, cargo):\n",
        "  print('Olá, '+ cargo + ' '+ nome)\n",
        "\n",
        "boasVindas('Amaralina', 'Engenheira')\n",
        "boasVindas('Jorge', 'Carimbador')\n",
        "boasVindas('Maria', 'Sargento')\n",
        "boasVindas('Lucas','')"
      ],
      "metadata": {
        "colab": {
          "base_uri": "https://localhost:8080/"
        },
        "id": "XNHsSPOy8jrg",
        "outputId": "7c98b22e-106d-4e21-c6b5-2bcf86bd0303"
      },
      "execution_count": 72,
      "outputs": [
        {
          "output_type": "stream",
          "name": "stdout",
          "text": [
            "Olá, Engenheira Amaralina\n",
            "Olá, Carimbador Jorge\n",
            "Olá, Sargento Maria\n",
            "Olá,  Lucas\n"
          ]
        }
      ]
    },
    {
      "cell_type": "code",
      "source": [
        "def pesoAltura(peso, altura):\n",
        "  imc = peso / altura ** 2 \n",
        "  return imc\n",
        "\n",
        "altura1 = float(input('imforme sua altura: '))\n",
        "peso1 = float(input('imforme seu peso: '))\n",
        "\n",
        "pesoAltura(altura1, peso1) <30 "
      ],
      "metadata": {
        "id": "QSU5GyLJ8jt7"
      },
      "execution_count": null,
      "outputs": []
    },
    {
      "cell_type": "code",
      "source": [
        "def calculo(emprestimo, tempo):\n",
        "  return  emprestimo *0.025* tempo\n",
        "\n",
        "emprestimo1 = float(input('qual o valor que você quer: '))\n",
        "tempo1 = float(input('em qual tempo você vai pagar: '))\n",
        "\n",
        "calculo(emprestimo1, tempo1)"
      ],
      "metadata": {
        "colab": {
          "base_uri": "https://localhost:8080/"
        },
        "id": "bNr56EVX8jv-",
        "outputId": "0cc60963-0a40-43fd-8c2c-c3a991d394bf"
      },
      "execution_count": 74,
      "outputs": [
        {
          "name": "stdout",
          "output_type": "stream",
          "text": [
            "qual o valor que você quer: 1220\n",
            "em qual tempo você vai pagar: 5\n"
          ]
        },
        {
          "output_type": "execute_result",
          "data": {
            "text/plain": [
              "152.5"
            ]
          },
          "metadata": {},
          "execution_count": 74
        }
      ]
    },
    {
      "cell_type": "code",
      "source": [
        "def valorTotalEmprestimo(valor, tempo):\n",
        "  return valor + calculo(valor, tempo)\n",
        "\n",
        "valorTotalEmprestimo(1000, 12)"
      ],
      "metadata": {
        "colab": {
          "base_uri": "https://localhost:8080/"
        },
        "id": "gt9eNK7E9ocr",
        "outputId": "2e21e232-1cbf-4426-e168-634514fb2a09"
      },
      "execution_count": 75,
      "outputs": [
        {
          "output_type": "execute_result",
          "data": {
            "text/plain": [
              "1300.0"
            ]
          },
          "metadata": {},
          "execution_count": 75
        }
      ]
    },
    {
      "cell_type": "code",
      "source": [
        "# tuplas"
      ],
      "metadata": {
        "id": "W_BJgretDMii"
      },
      "execution_count": null,
      "outputs": []
    },
    {
      "cell_type": "code",
      "source": [
        "# uma tupla\n",
        "tp_frutas = ('maça', 'banana',  'laranja', 'goiaba')\n",
        "tp_frutas"
      ],
      "metadata": {
        "colab": {
          "base_uri": "https://localhost:8080/"
        },
        "id": "ITDfbNCTDMtG",
        "outputId": "f3b01fd0-bf01-4a9c-e329-9274f6db8a7d"
      },
      "execution_count": 77,
      "outputs": [
        {
          "output_type": "execute_result",
          "data": {
            "text/plain": [
              "('maça', 'banana', 'laranja', 'goiaba')"
            ]
          },
          "metadata": {},
          "execution_count": 77
        }
      ]
    },
    {
      "cell_type": "code",
      "source": [
        "lst_frutas = list(tp_frutas)\n",
        "type(lst_frutas)\n",
        "lst_frutas"
      ],
      "metadata": {
        "colab": {
          "base_uri": "https://localhost:8080/"
        },
        "id": "7Xi0hO0sDMvo",
        "outputId": "e1a602cf-e43a-4edc-d1e5-befdbeb50350"
      },
      "execution_count": 79,
      "outputs": [
        {
          "output_type": "execute_result",
          "data": {
            "text/plain": [
              "['maça', 'banana', 'laranja', 'goiaba']"
            ]
          },
          "metadata": {},
          "execution_count": 79
        }
      ]
    },
    {
      "cell_type": "code",
      "source": [
        "#fatiamento (Slicing)\n",
        "tp_meses = ('jan','fev','mar','abr','mai','jun','jul','ago','set','out','nov','dez')\n",
        "# se quiser apenas os meses de junho a nov\n",
        "tp_meses[5:11]"
      ],
      "metadata": {
        "colab": {
          "base_uri": "https://localhost:8080/"
        },
        "id": "DHyO9N5hDMx0",
        "outputId": "5d9d17a3-5ff6-414f-8cee-0cdc1c727c8d"
      },
      "execution_count": 80,
      "outputs": [
        {
          "output_type": "execute_result",
          "data": {
            "text/plain": [
              "('jun', 'jul', 'ago', 'set', 'out', 'nov')"
            ]
          },
          "metadata": {},
          "execution_count": 80
        }
      ]
    },
    {
      "cell_type": "code",
      "source": [
        "#Usando o processo de fatiamento, crie uma nova tupla apenas com os meses do segundo trimestre (abril - Jun)\n",
        "tp_meses[3:6]"
      ],
      "metadata": {
        "colab": {
          "base_uri": "https://localhost:8080/"
        },
        "id": "m6PR8NqrDhAs",
        "outputId": "fd057d35-d577-49fb-a236-872f634ac53d"
      },
      "execution_count": 81,
      "outputs": [
        {
          "output_type": "execute_result",
          "data": {
            "text/plain": [
              "('abr', 'mai', 'jun')"
            ]
          },
          "metadata": {},
          "execution_count": 81
        }
      ]
    },
    {
      "cell_type": "code",
      "source": [
        "#Ordenação de dados *sort(value, key = x)\n",
        "#Ordenar os estados pelo DDD e não pelo nome\n",
        "uf_cod = [('PE', 81), ('RJ',21), ('SP',11), ('PB',83)]\n",
        "# O sorted ta organizando do menor para o maior, se eu tivesse colocado\n",
        "# no X o valor 0 ele ia ordenar por ordem alfabetica.\n",
        "sorted(uf_cod, key = lambda x : x[1])"
      ],
      "metadata": {
        "colab": {
          "base_uri": "https://localhost:8080/"
        },
        "id": "KdW5Emw3DhE9",
        "outputId": "4634b589-f589-423e-c70f-dc23a3ab1236"
      },
      "execution_count": 82,
      "outputs": [
        {
          "output_type": "execute_result",
          "data": {
            "text/plain": [
              "[('SP', 11), ('RJ', 21), ('PE', 81), ('PB', 83)]"
            ]
          },
          "metadata": {},
          "execution_count": 82
        }
      ]
    },
    {
      "cell_type": "code",
      "source": [
        "#Desempacotamento de valores.\n",
        "def nome_idade_uf():\n",
        "  nome = \"Mardony\"\n",
        "  idade = 20\n",
        "  uf = 'PB'\n",
        "  return nome, idade, uf\n",
        "# aqui posso colocar qualquer coisa, como A, zÉ e ZIGOTO\n",
        "name, age, uf = nome_idade_uf()\n",
        "\n",
        "print(name, age, uf)\n",
        "     "
      ],
      "metadata": {
        "colab": {
          "base_uri": "https://localhost:8080/"
        },
        "id": "bTbRyNcCDM0W",
        "outputId": "543dc530-ec5c-440d-c767-fec055f1e4f0"
      },
      "execution_count": 83,
      "outputs": [
        {
          "output_type": "stream",
          "name": "stdout",
          "text": [
            "Mardony 20 PB\n"
          ]
        }
      ]
    },
    {
      "cell_type": "code",
      "source": [
        "#Mapeamento de valores\n",
        "alunos = ('dolgras', 'zézin', 'mongolão', 'antôin', 'flamingo')\n",
        "notas = (5.5, 8, 9, 7.5, 6.5)\n",
        "# O zip é pra colocar duas tuplas na mesma linha. tô colocando o valor 0 de uma ao valor 0 de outro, e assim por diante\n",
        "mapeamento = tuple(zip(alunos, notas))\n",
        "\n",
        "mapeamento\n"
      ],
      "metadata": {
        "colab": {
          "base_uri": "https://localhost:8080/"
        },
        "id": "UgRxBdQQDM2z",
        "outputId": "3be242ab-f9a3-43c3-c7bf-da585578ee47"
      },
      "execution_count": 84,
      "outputs": [
        {
          "output_type": "execute_result",
          "data": {
            "text/plain": [
              "(('dolgras', 5.5),\n",
              " ('zézin', 8),\n",
              " ('mongolão', 9),\n",
              " ('antôin', 7.5),\n",
              " ('flamingo', 6.5))"
            ]
          },
          "metadata": {},
          "execution_count": 84
        }
      ]
    },
    {
      "cell_type": "code",
      "source": [
        "# 1- Escreva uma função que receba duas tuplas como entrada e retorne uma única \n",
        "# tupla que seja a concatenação das duas\n",
        "def drogas_preços(tp1, tp2):\n",
        "  return tp1 + tp2\n",
        "drogas = ('diamba', 'raio', 'loló')\n",
        "precos = (120 , 60, 10)\n",
        "\n",
        "drogas_preços(drogas, precos)"
      ],
      "metadata": {
        "colab": {
          "base_uri": "https://localhost:8080/"
        },
        "id": "AXgdl-N9DtV4",
        "outputId": "f3826ee9-5be0-49e8-ac27-688fd97bf305"
      },
      "execution_count": 85,
      "outputs": [
        {
          "output_type": "execute_result",
          "data": {
            "text/plain": [
              "('diamba', 'raio', 'loló', 120, 60, 10)"
            ]
          },
          "metadata": {},
          "execution_count": 85
        }
      ]
    },
    {
      "cell_type": "code",
      "source": [
        "# 1.1 questao extra.\n",
        "# atribuir o preços aos produtos.\n",
        "drogas = ('diamba', 'raio', 'loló')\n",
        "precos = (120 , 60, 10)\n",
        "\n",
        "c = tuple(zip(drogas, precos))\n",
        "c"
      ],
      "metadata": {
        "colab": {
          "base_uri": "https://localhost:8080/"
        },
        "id": "shWi-ZdPDtcu",
        "outputId": "fb27180f-cdc2-4992-8073-e5669d25e1d3"
      },
      "execution_count": 86,
      "outputs": [
        {
          "output_type": "execute_result",
          "data": {
            "text/plain": [
              "(('diamba', 120), ('raio', 60), ('loló', 10))"
            ]
          },
          "metadata": {},
          "execution_count": 86
        }
      ]
    },
    {
      "cell_type": "code",
      "source": [
        "# 2- Escreva uma função que receba uma tupla contendo o nome e endereço contendo,\n",
        "# logradouro, número e bairro de uma pessoa e retorne uma string formatada.\n",
        "def formatacao(tupla):\n",
        "  nome, logradouro, num, bairro = tupla\n",
        "  return 'Nome:{}, residente a {}, {}, {}.'.format(nome,logradouro,num,bairro)\n",
        "\n",
        "dadosCliente = ('Manoelina', 'Rua das Couves', '42', 'Torre')\n",
        "\n",
        "print (formatacao(dadosCliente))"
      ],
      "metadata": {
        "colab": {
          "base_uri": "https://localhost:8080/"
        },
        "id": "xNmohWu8DtfF",
        "outputId": "243dbaad-6c16-433e-b5df-23888ded8697"
      },
      "execution_count": 87,
      "outputs": [
        {
          "output_type": "stream",
          "name": "stdout",
          "text": [
            "Nome:Manoelina, residente a Rua das Couves, 42, Torre.\n"
          ]
        }
      ]
    },
    {
      "cell_type": "code",
      "source": [
        "# todos atividades antes do dia 29/05 "
      ],
      "metadata": {
        "id": "XYYUbS9dDths"
      },
      "execution_count": null,
      "outputs": []
    }
  ]
}