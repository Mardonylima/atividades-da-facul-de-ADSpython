{
  "cells": [
    {
      "cell_type": "markdown",
      "metadata": {
        "id": "view-in-github",
        "colab_type": "text"
      },
      "source": [
        "<a href=\"https://colab.research.google.com/github/Mardonylima/atividades-da-facul-de-ADSpython/blob/main/Welcome_To_Colaboratory.ipynb\" target=\"_parent\"><img src=\"https://colab.research.google.com/assets/colab-badge.svg\" alt=\"Open In Colab\"/></a>"
      ]
    },
    {
      "cell_type": "code",
      "source": [
        "#tuplas"
      ],
      "metadata": {
        "id": "8qjm0RIXUy2z"
      },
      "execution_count": null,
      "outputs": []
    },
    {
      "cell_type": "code",
      "source": [
        "# uma tupla\n",
        "tp_frutas = ('maça', 'banana',  'laranja', 'goiaba')\n",
        "tp_frutas"
      ],
      "metadata": {
        "id": "KwcFBa5vU18T",
        "outputId": "5e9e233b-3f2f-4991-a0a6-abb6c1688bcc",
        "colab": {
          "base_uri": "https://localhost:8080/"
        }
      },
      "execution_count": 18,
      "outputs": [
        {
          "output_type": "execute_result",
          "data": {
            "text/plain": [
              "('maça', 'banana', 'laranja', 'goiaba')"
            ]
          },
          "metadata": {},
          "execution_count": 18
        }
      ]
    },
    {
      "cell_type": "code",
      "source": [
        "#\n",
        "lst_frutas = list(tp_frutas)\n",
        "type(lst_frutas)\n",
        "lst_frutas"
      ],
      "metadata": {
        "id": "O2r1_0k9V1fs",
        "outputId": "d138b2ba-5005-4634-ec31-6bff7687eb4f",
        "colab": {
          "base_uri": "https://localhost:8080/"
        }
      },
      "execution_count": 17,
      "outputs": [
        {
          "output_type": "execute_result",
          "data": {
            "text/plain": [
              "['maça', 'banana', 'laranja', 'goiaba']"
            ]
          },
          "metadata": {},
          "execution_count": 17
        }
      ]
    },
    {
      "cell_type": "code",
      "source": [
        "#fatiamento (Slicing)\n",
        "tp_meses = ('jan','fev','mar','abr','mai','jun','jul','ago','set','out','nov','dez')\n",
        "# se quiser apenas os meses de junho a nov\n",
        "tp_meses[5:11]"
      ],
      "metadata": {
        "id": "pRzpr8fMYqt3",
        "outputId": "e162db3d-44e0-4ea4-eaaf-1d923bc453de",
        "colab": {
          "base_uri": "https://localhost:8080/"
        }
      },
      "execution_count": 11,
      "outputs": [
        {
          "output_type": "execute_result",
          "data": {
            "text/plain": [
              "('jun', 'jul', 'ago', 'set', 'out', 'nov')"
            ]
          },
          "metadata": {},
          "execution_count": 11
        }
      ]
    },
    {
      "cell_type": "code",
      "source": [
        "#Usando o processo de fatiamento, crie uma nova tupla apenas com os meses do segundo trimestre (abril - Jun)\n",
        "tp_meses[3:6]"
      ],
      "metadata": {
        "id": "t83SBuRQaptM",
        "outputId": "b1022b90-a960-421f-e136-ae6ccdfadf22",
        "colab": {
          "base_uri": "https://localhost:8080/"
        }
      },
      "execution_count": 12,
      "outputs": [
        {
          "output_type": "execute_result",
          "data": {
            "text/plain": [
              "('abr', 'mai', 'jun')"
            ]
          },
          "metadata": {},
          "execution_count": 12
        }
      ]
    },
    {
      "cell_type": "code",
      "source": [
        "#Ordenação de dados *sort(value, key = x)\n",
        "#Ordenar os estados pelo DDD e não pelo nome\n",
        "uf_cod = [('PE', 81), ('RJ',21), ('SP',11), ('PB',83)]\n",
        "# O sorted ta organizando do menor para o maior, se eu tivesse colocado\n",
        "# no X o valor 0 ele ia ordenar por ordem alfabetica.\n",
        "sorted(uf_cod, key = lambda x : x[1])"
      ],
      "metadata": {
        "id": "aCWU-6EZbdjK",
        "outputId": "f2670477-c677-41b9-93d4-32a26693153f",
        "colab": {
          "base_uri": "https://localhost:8080/"
        }
      },
      "execution_count": 16,
      "outputs": [
        {
          "output_type": "execute_result",
          "data": {
            "text/plain": [
              "[('SP', 11), ('RJ', 21), ('PE', 81), ('PB', 83)]"
            ]
          },
          "metadata": {},
          "execution_count": 16
        }
      ]
    },
    {
      "cell_type": "code",
      "source": [
        "#Desempacotamento de valores.\n",
        "def nome_idade_uf():\n",
        "  nome = \"Mardony\"\n",
        "  idade = 20\n",
        "  uf = 'PB'\n",
        "  return nome, idade, uf\n",
        "# aqui posso colocar qualquer coisa, como A, zÉ e ZIGOTO\n",
        "name, age, uf = nome_idade_uf()\n",
        "\n",
        "print(name, age, uf)"
      ],
      "metadata": {
        "id": "kZjgjPe4dkez",
        "outputId": "0a8d03b6-f7fb-47b7-d73b-fd8537c53e4a",
        "colab": {
          "base_uri": "https://localhost:8080/"
        }
      },
      "execution_count": 21,
      "outputs": [
        {
          "output_type": "stream",
          "name": "stdout",
          "text": [
            "Mardony 20 PB\n"
          ]
        }
      ]
    },
    {
      "cell_type": "code",
      "source": [
        "#Mapeamento de valores\n",
        "alunos = ('dolgras', 'zézin', 'mongolão', 'antôin', 'flamingo')\n",
        "notas = (5.5, 8, 9, 7.5, 6.5)\n",
        "# O zip é pra colocar duas tuplas na mesma linha. tô colocando o valor 0 de uma ao valor 0 de outro, e assim por diante\n",
        "mapeamento = tuple(zip(alunos, notas))\n",
        "\n",
        "mapeamento"
      ],
      "metadata": {
        "id": "W_Kq94owne7A",
        "outputId": "893be2c5-7d2d-4432-bcaf-951e3053babe",
        "colab": {
          "base_uri": "https://localhost:8080/"
        }
      },
      "execution_count": 42,
      "outputs": [
        {
          "output_type": "execute_result",
          "data": {
            "text/plain": [
              "(('dolgras', 5.5),\n",
              " ('zézin', 8),\n",
              " ('mongolão', 9),\n",
              " ('antôin', 7.5),\n",
              " ('flamingo', 6.5))"
            ]
          },
          "metadata": {},
          "execution_count": 42
        }
      ]
    },
    {
      "cell_type": "code",
      "source": [
        "# 1- Escreva uma função que receba duas tuplas como entrada e retorne uma única \n",
        "# tupla que seja a concatenação das duas\n",
        "def drogas_preços(tp1, tp2):\n",
        "  return tp1 + tp2\n",
        "drogas = ('diamba', 'raio', 'loló')\n",
        "precos = (120 , 60, 10)\n",
        "\n",
        "drogas_preços(drogas, precos)"
      ],
      "metadata": {
        "id": "M9teOxcPonvN",
        "outputId": "52c81561-1adf-4de0-f09f-9fc67f4c4eba",
        "colab": {
          "base_uri": "https://localhost:8080/"
        }
      },
      "execution_count": 35,
      "outputs": [
        {
          "output_type": "execute_result",
          "data": {
            "text/plain": [
              "('diamba', 'raio', 'loló', 120, 60, 10)"
            ]
          },
          "metadata": {},
          "execution_count": 35
        }
      ]
    },
    {
      "cell_type": "code",
      "source": [
        "# 1.1 questao extra.\n",
        "# atribuir o preços aos produtos.\n",
        "drogas = ('diamba', 'raio', 'loló')\n",
        "precos = (120 , 60, 10)\n",
        "\n",
        "c = tuple(zip(drogas, precos))\n",
        "c"
      ],
      "metadata": {
        "id": "dyScJW0GvYMk",
        "outputId": "7a7f873e-a52b-4893-b0f7-f945e9cfca25",
        "colab": {
          "base_uri": "https://localhost:8080/"
        }
      },
      "execution_count": 38,
      "outputs": [
        {
          "output_type": "execute_result",
          "data": {
            "text/plain": [
              "(('diamba', 120), ('raio', 60), ('loló', 10))"
            ]
          },
          "metadata": {},
          "execution_count": 38
        }
      ]
    },
    {
      "cell_type": "code",
      "source": [
        "# 2- Escreva uma função que receba uma tupla contendo o nome e endereço contendo,\n",
        "# logradouro, número e bairro de uma pessoa e retorne uma string formatada.\n",
        "def formatacao(tupla):\n",
        "  nome, logradouro, num, bairro = tupla\n",
        "  return 'Nome:{}, residente a {}, {}, {}.'.format(nome,logradouro,num,bairro)\n",
        "\n",
        "dadosCliente = ('Manoelina', 'Rua das Couves', '42', 'Torre')\n",
        "\n",
        "print (formatacao(dadosCliente))"
      ],
      "metadata": {
        "id": "lLyC8xhcwm8I",
        "outputId": "02f0f6d6-4395-4710-b421-32132990a6a2",
        "colab": {
          "base_uri": "https://localhost:8080/"
        }
      },
      "execution_count": 41,
      "outputs": [
        {
          "output_type": "stream",
          "name": "stdout",
          "text": [
            "Nome:Manoelina, residente a Rua das Couves, 42, Torre.\n"
          ]
        }
      ]
    },
    {
      "cell_type": "code",
      "source": [
        "# 3- Escreva uma função que receba uma lista de tuplas contendo\n",
        "# nome e idade de pessoas e retorne a lista ordenada por idade.\n"
      ],
      "metadata": {
        "id": "Uscat0kuxrQ6"
      },
      "execution_count": null,
      "outputs": []
    }
  ],
  "metadata": {
    "colab": {
      "name": "Welcome To Colaboratory",
      "toc_visible": true,
      "provenance": [],
      "include_colab_link": true
    },
    "kernelspec": {
      "display_name": "Python 3",
      "name": "python3"
    }
  },
  "nbformat": 4,
  "nbformat_minor": 0
}