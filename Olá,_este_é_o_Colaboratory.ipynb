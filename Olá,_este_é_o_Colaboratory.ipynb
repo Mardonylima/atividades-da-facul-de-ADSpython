{
  "cells": [
    {
      "cell_type": "markdown",
      "metadata": {
        "id": "view-in-github",
        "colab_type": "text"
      },
      "source": [
        "<a href=\"https://colab.research.google.com/github/Mardonylima/atividades-da-facul-de-ADSpython/blob/main/Ol%C3%A1%2C_este_%C3%A9_o_Colaboratory.ipynb\" target=\"_parent\"><img src=\"https://colab.research.google.com/assets/colab-badge.svg\" alt=\"Open In Colab\"/></a>"
      ]
    },
    {
      "cell_type": "code",
      "source": [
        "#exiba a quantidade de aprovados e reprovados \n",
        "\n",
        "alunos = ['joao','pedro','vitu','zé','calan']"
      ],
      "metadata": {
        "id": "Ht3r0ah3LAX1"
      },
      "execution_count": 1,
      "outputs": []
    },
    {
      "cell_type": "code",
      "source": [
        "# criar um programa que lista os números de 1 a 10 para esto, precisaremos de um contador\n",
        "cont =1 \n",
        "numeros = []\n",
        "\n",
        "while (cont <= 10):\n",
        "  numeros.append(cont)\n",
        "  cont += 1 \n",
        "\n",
        "numeros"
      ],
      "metadata": {
        "id": "fGhvsOQcQ0aP",
        "outputId": "0de14f10-c6bd-4693-c292-f65df2d06431",
        "colab": {
          "base_uri": "https://localhost:8080/"
        }
      },
      "execution_count": 11,
      "outputs": [
        {
          "output_type": "execute_result",
          "data": {
            "text/plain": [
              "[1, 2, 3, 4, 5, 6, 7, 8, 9, 10]"
            ]
          },
          "metadata": {},
          "execution_count": 11
        }
      ]
    },
    {
      "cell_type": "code",
      "source": [
        "n1 = float(input('digite sua nota: '))\n",
        "n2 = float(input('digite sua nota: '))\n",
        "n3 = float(input('digite sua nota: '))\n",
        "n4 = float(input('digite sua nota: '))\n",
        "\n",
        "notas = [n1, n2, n3, n4]\n",
        "\n",
        "aprovado = 0 \n",
        "reprovado = 0\n",
        "for nota in notas:\n",
        "   if (nota >= 7 ):\n",
        "     aprovado +=1\n",
        "   else:\n",
        "     reprovado +=1\n",
        "\n",
        "print('aprovado', aprovado)\n",
        "print('reprovado', reprovado)\n"
      ],
      "metadata": {
        "id": "z9e0ECHtLD3F",
        "outputId": "f3c09406-b56a-4750-b09d-2cbbcc2e9074",
        "colab": {
          "base_uri": "https://localhost:8080/"
        }
      },
      "execution_count": 9,
      "outputs": [
        {
          "output_type": "stream",
          "name": "stdout",
          "text": [
            "digite sua nota: 9\n",
            "digite sua nota: 6\n",
            "digite sua nota: 6\n",
            "digite sua nota: 1\n",
            "aprovado 1\n",
            "reprovado 3\n"
          ]
        }
      ]
    },
    {
      "cell_type": "code",
      "source": [
        "# modifique o codigo anterior para solicitar um tamanho da lista a e com o laço while\n",
        "# crie a nova lista do tamanho desejado\n",
        "tamanho = int(input('quantidades da lista: '))\n",
        "aprovado = 0 \n",
        "reprovado = 0\n",
        "\n",
        "while (cont <= tamanho):\n",
        "  numeros.append(cont)\n",
        "  cont += 1\n",
        "\n",
        "numeros"
      ],
      "metadata": {
        "id": "cdaqKWdKSXVv"
      },
      "execution_count": null,
      "outputs": []
    },
    {
      "cell_type": "code",
      "source": [
        "cidades = []\n",
        "city = str(input('digite uma cidade: '))\n",
        "\n",
        "while(city != '0'):\n",
        "  cidades.append(city)\n",
        "  city = input('digite uma cidade: ')\n",
        "\n",
        "cidades"
      ],
      "metadata": {
        "id": "6mT5yWAyVJVB"
      },
      "execution_count": null,
      "outputs": []
    },
    {
      "cell_type": "code",
      "source": [
        "#par ou impar \n",
        "num  = int(input('digite um numero: '))\n",
        "\n",
        "while(num >= 0 ):\n",
        "  if(num % 2 == 0 ):\n",
        "    print(\"é par\")\n",
        "    num  = int(input('digite um numero: '))\n",
        "  else :\n",
        "    print(\"é impar\")\n",
        "    num = int(input('digite um numero: '))\n",
        "    \n",
        "print('acabou!!!')\n"
      ],
      "metadata": {
        "id": "OWcm0lC_Xqma",
        "outputId": "ec9f5a01-59c9-428b-e792-84ed57210b37",
        "colab": {
          "base_uri": "https://localhost:8080/"
        }
      },
      "execution_count": 24,
      "outputs": [
        {
          "output_type": "stream",
          "name": "stdout",
          "text": [
            "digite um numero: 6\n",
            "é par\n",
            "digite um numero: 54\n",
            "é par\n",
            "digite um numero: 1\n",
            "é impar\n",
            "digite um numero: -6\n",
            "acabou!!!\n"
          ]
        }
      ]
    }
  ],
  "metadata": {
    "colab": {
      "name": "Olá, este é o Colaboratory",
      "toc_visible": true,
      "provenance": [],
      "include_colab_link": true
    },
    "kernelspec": {
      "display_name": "Python 3",
      "name": "python3"
    }
  },
  "nbformat": 4,
  "nbformat_minor": 0
}