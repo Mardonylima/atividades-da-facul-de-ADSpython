{
  "cells": [
    {
      "cell_type": "markdown",
      "metadata": {
        "id": "view-in-github",
        "colab_type": "text"
      },
      "source": [
        "<a href=\"https://colab.research.google.com/github/Mardonylima/atividades-da-facul-de-ADSpython/blob/main/Ol%C3%A1%2C_este_%C3%A9_o_Colaboratory.ipynb\" target=\"_parent\"><img src=\"https://colab.research.google.com/assets/colab-badge.svg\" alt=\"Open In Colab\"/></a>"
      ]
    },
    {
      "cell_type": "markdown",
      "source": [
        "Em um concurso foram aplicadas duas provas A e B, das quais o resultado foi o seguinte:\n",
        "\n",
        "provaA = {'Andre': 8.5, 'Ana': 7.0, 'Chico': 6.5, 'Nubia': 10, 'Luana': 8}\n",
        "\n",
        "provaB = {'Julio': 5.5, 'Aristides': 6.0, 'Sebastiana': 9.5, 'Camila': 10, 'João': 6}\n",
        "\n",
        "A partir disso, siga o roteiro:\n",
        "\n",
        "A Crie num novo dicionário resultado_final, o qual é a junção dos dois dicionários provaA e provaB\n",
        "\n",
        "Ordene o dicionário da maior nota para a menor nota\n",
        "\n",
        "O Gerente da comissão do concurso precisa de uma lista apenas com os nomes dos candidatos.\n",
        "\n",
        "O analista de dados precisa de uma lista apenas com as notas das provas.\n",
        "\n",
        "Querem disponibilizar um recurso, no qual se insere um nome de candidato e retorna a sua nota. Caso o candidato não exista, exibir a mensagem \"Candidato inexistente\"."
      ],
      "metadata": {
        "id": "tt02kFI9g_HT"
      }
    },
    {
      "cell_type": "code",
      "source": [
        "provaA = {'Andre': 8.5, 'Ana': 7.0, 'Chico': 6.5, 'Nubia': 10, 'Luana': 8}\n",
        "provaB = {'Julio': 5.5, 'Aristides': 6.0, 'Sebastiana': 9.5, 'Camila': 10, 'João': 6}\n",
        "\n",
        "resultado_final = {}\n",
        "resultado_final.update(provaA)\n",
        "resultado_final.update(provaB)\n",
        "\n",
        "resultado_final"
      ],
      "metadata": {
        "id": "kwKVMkMfcnfh"
      },
      "execution_count": null,
      "outputs": []
    },
    {
      "cell_type": "code",
      "source": [
        "# do menor ou maior\n",
        "sorted(resultado_final, key = resultado_final.get) "
      ],
      "metadata": {
        "id": "PFZx70FBf_jt",
        "outputId": "e6302011-27cd-4280-cd85-3e71702c3587",
        "colab": {
          "base_uri": "https://localhost:8080/"
        }
      },
      "execution_count": 21,
      "outputs": [
        {
          "output_type": "execute_result",
          "data": {
            "text/plain": [
              "['Julio',\n",
              " 'Aristides',\n",
              " 'João',\n",
              " 'Chico',\n",
              " 'Ana',\n",
              " 'Luana',\n",
              " 'Andre',\n",
              " 'Sebastiana',\n",
              " 'Nubia',\n",
              " 'Camila']"
            ]
          },
          "metadata": {},
          "execution_count": 21
        }
      ]
    },
    {
      "cell_type": "code",
      "source": [
        "# do maior ao menor\n",
        "sorted(resultado_final, key = resultado_final.get, reverse= True)"
      ],
      "metadata": {
        "id": "5DUnYBb7gTjc",
        "outputId": "c87529c2-cde0-47b4-dced-c4053d4bbd0a",
        "colab": {
          "base_uri": "https://localhost:8080/"
        }
      },
      "execution_count": 22,
      "outputs": [
        {
          "output_type": "execute_result",
          "data": {
            "text/plain": [
              "['Nubia',\n",
              " 'Camila',\n",
              " 'Sebastiana',\n",
              " 'Andre',\n",
              " 'Luana',\n",
              " 'Ana',\n",
              " 'Chico',\n",
              " 'Aristides',\n",
              " 'João',\n",
              " 'Julio']"
            ]
          },
          "metadata": {},
          "execution_count": 22
        }
      ]
    },
    {
      "cell_type": "code",
      "source": [
        "# nomes dos candidatos\n",
        "candidatos= list(resultado_final.keys())\n",
        "candidatos"
      ],
      "metadata": {
        "id": "r8csA03ihqzM",
        "outputId": "5f5122df-6f6a-4113-c680-519764fd14c8",
        "colab": {
          "base_uri": "https://localhost:8080/"
        }
      },
      "execution_count": 5,
      "outputs": [
        {
          "output_type": "execute_result",
          "data": {
            "text/plain": [
              "['Andre',\n",
              " 'Ana',\n",
              " 'Chico',\n",
              " 'Nubia',\n",
              " 'Luana',\n",
              " 'Julio',\n",
              " 'Aristides',\n",
              " 'Sebastiana',\n",
              " 'Camila',\n",
              " 'João']"
            ]
          },
          "metadata": {},
          "execution_count": 5
        }
      ]
    },
    {
      "cell_type": "code",
      "source": [
        "#notas dos candidatos\n",
        "notas = list(resultado_final.values())\n",
        "notas"
      ],
      "metadata": {
        "id": "Vt8dW-Q1i4sV",
        "outputId": "7f3eb2b0-d286-49ce-c2b0-87c83ededb08",
        "colab": {
          "base_uri": "https://localhost:8080/"
        }
      },
      "execution_count": 7,
      "outputs": [
        {
          "output_type": "execute_result",
          "data": {
            "text/plain": [
              "[8.5, 7.0, 6.5, 10, 8, 5.5, 6.0, 9.5, 10, 6]"
            ]
          },
          "metadata": {},
          "execution_count": 7
        }
      ]
    },
    {
      "cell_type": "code",
      "source": [
        "# pra printar na tela o nome dos candidatos e suas notas\n",
        "resultado=dict(zip(candidatos, notas))\n",
        "resultado"
      ],
      "metadata": {
        "id": "EhCxgWAVjK4X",
        "outputId": "c837c2a4-076e-4970-a740-ecda664eb17b",
        "colab": {
          "base_uri": "https://localhost:8080/"
        }
      },
      "execution_count": 14,
      "outputs": [
        {
          "output_type": "execute_result",
          "data": {
            "text/plain": [
              "{'Andre': 8.5,\n",
              " 'Ana': 7.0,\n",
              " 'Chico': 6.5,\n",
              " 'Nubia': 10,\n",
              " 'Luana': 8,\n",
              " 'Julio': 5.5,\n",
              " 'Aristides': 6.0,\n",
              " 'Sebastiana': 9.5,\n",
              " 'Camila': 10,\n",
              " 'João': 6}"
            ]
          },
          "metadata": {},
          "execution_count": 14
        }
      ]
    },
    {
      "cell_type": "code",
      "source": [
        "# recebe o nome e retorna a nota do candidato\n",
        "def consultaNota(resultado_final, nome):\n",
        "  if nome in resultado_final:\n",
        "    return resultado_final[nome]\n",
        "  else:\n",
        "    return 'candidato inexistente'\n",
        "\n",
        "nomeCandidato = input('digite um nome: ')\n",
        "notaCandidato = consultaNota(resultado_final, nomeCandidato)\n",
        "print(notaCandidato)"
      ],
      "metadata": {
        "id": "XpnEgQgwktfG",
        "outputId": "c765d8a7-c781-4f66-e2a7-3825a39cb472",
        "colab": {
          "base_uri": "https://localhost:8080/"
        }
      },
      "execution_count": 30,
      "outputs": [
        {
          "output_type": "stream",
          "name": "stdout",
          "text": [
            "digite um nome: Camila\n",
            "10\n"
          ]
        }
      ]
    }
  ],
  "metadata": {
    "colab": {
      "name": "Olá, este é o Colaboratory",
      "toc_visible": true,
      "provenance": [],
      "include_colab_link": true
    },
    "kernelspec": {
      "display_name": "Python 3",
      "name": "python3"
    }
  },
  "nbformat": 4,
  "nbformat_minor": 0
}