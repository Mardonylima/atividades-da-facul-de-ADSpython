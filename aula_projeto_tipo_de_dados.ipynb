{
  "nbformat": 4,
  "nbformat_minor": 0,
  "metadata": {
    "colab": {
      "provenance": [],
      "authorship_tag": "ABX9TyPGlAluIZfQBwrK5sjEU3mb",
      "include_colab_link": true
    },
    "kernelspec": {
      "name": "python3",
      "display_name": "Python 3"
    },
    "language_info": {
      "name": "python"
    }
  },
  "cells": [
    {
      "cell_type": "markdown",
      "metadata": {
        "id": "view-in-github",
        "colab_type": "text"
      },
      "source": [
        "<a href=\"https://colab.research.google.com/github/Mardonylima/cursos-de-programa-o-/blob/main/aula_projeto_tipo_de_dados.ipynb\" target=\"_parent\"><img src=\"https://colab.research.google.com/assets/colab-badge.svg\" alt=\"Open In Colab\"/></a>"
      ]
    },
    {
      "cell_type": "code",
      "execution_count": 1,
      "metadata": {
        "colab": {
          "base_uri": "https://localhost:8080/"
        },
        "id": "GU4bak4W_9Uf",
        "outputId": "b7e1ce7c-0762-4b8a-c7eb-6323074404d9"
      },
      "outputs": [
        {
          "output_type": "stream",
          "name": "stdout",
          "text": [
            " olá, mundo\n"
          ]
        }
      ],
      "source": [
        "print (\" olá, mundo\")"
      ]
    },
    {
      "cell_type": "code",
      "source": [
        "n1 = float(input(\"digite uma a primeira nota: \"))\n",
        "n2 = float(input(\"digite uma a segunda nota: \"))\n",
        "n3 = float(input(\"digite uma a terceira nota: \"))\n",
        "\n",
        "soma = ((n1 + n2 + n3) /3)\n",
        "\n",
        "\n",
        "print(\"sua primeira nota é :\",n1)\n",
        "print(\"sua segunda nota é : \",n2)\n",
        "print(\"sua terceira nota é :\",n3)\n",
        "print(\"e sua média é :\" ,soma)"
      ],
      "metadata": {
        "id": "PNYw9-QmCmD0"
      },
      "execution_count": null,
      "outputs": []
    },
    {
      "cell_type": "code",
      "source": [
        "\n",
        "n1 = float(input(\"digite uma a primeira nota: \"))\n",
        "n2 = float(input(\"digite uma a segunda nota: \"))\n",
        "n3 = float(input(\"digite uma a terceira nota: \"))\n",
        "\n",
        "soma = ((n1 + n2 + n3) /3)\n",
        "\n",
        "print(\"sua primeira nota é : {}, sua segunda nota é :{} , sua terceira nota é :{} e sua medía é:  ,{}\" .format(n1 , n2 , n3, soma))"
      ],
      "metadata": {
        "id": "xoxoRQfZJiX-"
      },
      "execution_count": null,
      "outputs": []
    },
    {
      "cell_type": "code",
      "source": [
        "n1 = float(input(\"digite uma a primeira nota: \"))\n",
        "n2 = float(input(\"digite uma a segunda nota: \"))\n",
        "n3 = float(input(\"digite uma a terceira nota: \"))\n",
        "\n",
        "soma = ((n1 + n2 + n3) /3)\n",
        "\n",
        "print(\"sua primeira nota é : {}, sua segunda nota é :{} , sua terceira nota é :{} e sua medía é:  ,{}\" .format(n1 , n2 , n3, soma))\n",
        "\n",
        "if(soma >=7):\n",
        "  print(\"aprovado\")\n",
        "else:\n",
        "    print(\"reprovado\")\n"
      ],
      "metadata": {
        "id": "dRupS6DRNQin"
      },
      "execution_count": null,
      "outputs": []
    },
    {
      "cell_type": "code",
      "source": [
        "n1 = float(input(\"digite uma a primeira nota: \"))\n",
        "n2 = float(input(\"digite uma a segunda nota: \"))\n",
        "n3 = float(input(\"digite uma a terceira nota: \"))\n",
        "\n",
        "soma = ((n1 + n2 + n3) /3)\n",
        "\n",
        "print(\"sua primeira nota é : {}, sua segunda nota é :{} , sua terceira nota é :{} e sua medía é:  ,{}\" .format(n1 , n2 , n3, soma))\n",
        "\n",
        "if(soma >=7):\n",
        "  print(\"aprovado\")\n",
        "    \n",
        "elif (soma >=4 and soma <7):\n",
        "  print(\"recuperação\")  \n",
        "\n",
        "else:\n",
        "    print(\"reprovado\")"
      ],
      "metadata": {
        "id": "KQNWRx_2PHCS"
      },
      "execution_count": null,
      "outputs": []
    }
  ]
}