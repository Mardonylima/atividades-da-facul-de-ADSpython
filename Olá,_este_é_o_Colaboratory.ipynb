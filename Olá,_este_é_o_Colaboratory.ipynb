{
  "cells": [
    {
      "cell_type": "markdown",
      "metadata": {
        "id": "view-in-github",
        "colab_type": "text"
      },
      "source": [
        "<a href=\"https://colab.research.google.com/github/Mardonylima/atividades-da-facul-de-ADSpython/blob/main/Ol%C3%A1%2C_este_%C3%A9_o_Colaboratory.ipynb\" target=\"_parent\"><img src=\"https://colab.research.google.com/assets/colab-badge.svg\" alt=\"Open In Colab\"/></a>"
      ]
    },
    {
      "cell_type": "code",
      "source": [
        "# recebe uma lista de mostra o quadrado dos numeros neles\n",
        "listaNumerica = [1, 2, 4, 8, 16, 32]\n",
        "nlista= list(map(lambda x: x**2, listaNumerica ))\n",
        "nlista"
      ],
      "metadata": {
        "id": "SBzhmX36p8mz",
        "outputId": "52deb324-27ff-43bc-dea7-e0be16618497",
        "colab": {
          "base_uri": "https://localhost:8080/"
        }
      },
      "execution_count": 2,
      "outputs": [
        {
          "output_type": "execute_result",
          "data": {
            "text/plain": [
              "[1, 4, 16, 64, 256, 1024]"
            ]
          },
          "metadata": {},
          "execution_count": 2
        }
      ]
    },
    {
      "cell_type": "code",
      "source": [
        "# contar quantos letra tem nas strings\n",
        "listaFrutas = [\"uva\", \"maça\", \"manga\", \"banana\"]\n",
        "Flista = list(map(lambda x: len(x), listaFrutas))\n",
        "Flista "
      ],
      "metadata": {
        "id": "yyzbC-dUq5Nc",
        "outputId": "246fcadd-e15d-4eb2-85c9-71975358705b",
        "colab": {
          "base_uri": "https://localhost:8080/"
        }
      },
      "execution_count": 8,
      "outputs": [
        {
          "output_type": "execute_result",
          "data": {
            "text/plain": [
              "[3, 4, 5, 6]"
            ]
          },
          "metadata": {},
          "execution_count": 8
        }
      ]
    },
    {
      "cell_type": "code",
      "source": [
        " # pegue um valor e adicione mais 2 reais\n",
        " preços = [9.99, 2.50, 3.45, 7.00, 10.99]\n",
        " Plista = list(map(lambda x: x+2, preços))\n",
        " Plista"
      ],
      "metadata": {
        "id": "GFXXKaPjtTvV",
        "outputId": "99911566-e258-4f39-a0cb-b3e6a2b69080",
        "colab": {
          "base_uri": "https://localhost:8080/"
        }
      },
      "execution_count": 16,
      "outputs": [
        {
          "output_type": "execute_result",
          "data": {
            "text/plain": [
              "[11.99, 4.5, 5.45, 9.0, 12.99]"
            ]
          },
          "metadata": {},
          "execution_count": 16
        }
      ]
    },
    {
      "cell_type": "code",
      "source": [
        "#quero apenas os aprovados com as notas a cima de 7\n",
        "notas = [9.2, 5.6, 8.1, 1.9, 10]\n",
        "listaN = list(filter(lambda x: x>=7, notas))\n",
        "listaN\n"
      ],
      "metadata": {
        "id": "2XEjz5-RvZsL",
        "outputId": "ed96ee17-147a-4b48-8500-6f23fffc56f0",
        "colab": {
          "base_uri": "https://localhost:8080/"
        }
      },
      "execution_count": 18,
      "outputs": [
        {
          "output_type": "execute_result",
          "data": {
            "text/plain": [
              "[9.2, 8.1, 10]"
            ]
          },
          "metadata": {},
          "execution_count": 18
        }
      ]
    }
  ],
  "metadata": {
    "colab": {
      "name": "Olá, este é o Colaboratory",
      "toc_visible": true,
      "provenance": [],
      "include_colab_link": true
    },
    "kernelspec": {
      "display_name": "Python 3",
      "name": "python3"
    }
  },
  "nbformat": 4,
  "nbformat_minor": 0
}