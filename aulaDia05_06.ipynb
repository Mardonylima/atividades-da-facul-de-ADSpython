{
  "nbformat": 4,
  "nbformat_minor": 0,
  "metadata": {
    "colab": {
      "provenance": [],
      "authorship_tag": "ABX9TyN8Sqti+y9AREXWlbif/CJD",
      "include_colab_link": true
    },
    "kernelspec": {
      "name": "python3",
      "display_name": "Python 3"
    },
    "language_info": {
      "name": "python"
    }
  },
  "cells": [
    {
      "cell_type": "markdown",
      "metadata": {
        "id": "view-in-github",
        "colab_type": "text"
      },
      "source": [
        "<a href=\"https://colab.research.google.com/github/Mardonylima/atividades-da-facul-de-ADSpython/blob/main/aulaDia05_06.ipynb\" target=\"_parent\"><img src=\"https://colab.research.google.com/assets/colab-badge.svg\" alt=\"Open In Colab\"/></a>"
      ]
    },
    {
      "cell_type": "code",
      "execution_count": 45,
      "metadata": {
        "id": "zXkM7yvDgqLj"
      },
      "outputs": [],
      "source": [
        "# aula de POO"
      ]
    },
    {
      "cell_type": "code",
      "source": [
        "class pessoa:\n",
        "  def __init__(self, nome):\n",
        "    self.nome= nome "
      ],
      "metadata": {
        "id": "XCBpxqI1g3Vl"
      },
      "execution_count": 4,
      "outputs": []
    },
    {
      "cell_type": "code",
      "source": [
        "aluno = pessoa('Mardony')\n",
        "aluno.nome"
      ],
      "metadata": {
        "colab": {
          "base_uri": "https://localhost:8080/",
          "height": 35
        },
        "id": "5o9wJwG9hrfg",
        "outputId": "0c69390b-6fb0-4137-ec79-b4758d3188f3"
      },
      "execution_count": 5,
      "outputs": [
        {
          "output_type": "execute_result",
          "data": {
            "text/plain": [
              "'Mardony'"
            ],
            "application/vnd.google.colaboratory.intrinsic+json": {
              "type": "string"
            }
          },
          "metadata": {},
          "execution_count": 5
        }
      ]
    },
    {
      "cell_type": "code",
      "source": [
        "# criar uma classe funcionario que tem como atributos nome, cargo e matricula\n",
        "\n",
        "class funcionario:\n",
        "  def __init__(self,nome, cargo, matricula):\n",
        "    self.nome= nome \n",
        "    self.cargo= cargo\n",
        "    self.matricula= matricula\n",
        "    "
      ],
      "metadata": {
        "id": "Jz5WgaIihp0j"
      },
      "execution_count": 19,
      "outputs": []
    },
    {
      "cell_type": "code",
      "source": [
        "# instancia de Funcionario \n",
        "vend=funcionario('mardony','comprador',20230001)\n",
        "print('{}, cargo: {}, mat: {}'.format(vend.nome, vend.cargo, vend.matricula))\n",
        "#print(f'{vend.nome}, cargo: {vend.cargo}, mat: {vend.matricula}')"
      ],
      "metadata": {
        "colab": {
          "base_uri": "https://localhost:8080/"
        },
        "id": "tJ1FuF2_hp5k",
        "outputId": "867fc6e0-b4ea-41a0-fd44-73ad4d69e0c6"
      },
      "execution_count": 23,
      "outputs": [
        {
          "output_type": "stream",
          "name": "stdout",
          "text": [
            "mardony, cargo: comprador, mat: 20230001\n"
          ]
        }
      ]
    },
    {
      "cell_type": "code",
      "source": [
        "class cliente:\n",
        "  def __init__(self, nome, idade, sexo):\n",
        "    self.nome = nome\n",
        "    self.idade = idade\n",
        "    self.sexo = sexo\n",
        "  def detalhe(self):\n",
        "    print(f'{self.nome}, {self.idade}, {self.sexo}')\n"
      ],
      "metadata": {
        "id": "Y71wAMtskKZb"
      },
      "execution_count": 29,
      "outputs": []
    },
    {
      "cell_type": "code",
      "source": [
        "cli=cliente('mardony', 20, 'Masculino')\n",
        "cli.detalhe()"
      ],
      "metadata": {
        "colab": {
          "base_uri": "https://localhost:8080/"
        },
        "id": "HZBP-rbgoqwb",
        "outputId": "62b18217-e04f-4ddb-cb0f-bbb56539dfa9"
      },
      "execution_count": 43,
      "outputs": [
        {
          "output_type": "stream",
          "name": "stdout",
          "text": [
            "mardony, 20, Masculino\n"
          ]
        }
      ]
    },
    {
      "cell_type": "code",
      "source": [
        "# crie uma classe conta com os atributos titular, saldo, funcao chamada exibeSaldo"
      ],
      "metadata": {
        "id": "N-w39qvhpBLj"
      },
      "execution_count": 44,
      "outputs": []
    },
    {
      "cell_type": "code",
      "source": [
        "class conta:\n",
        "  def __init__(self, titular, saldo):\n",
        "    self.titular = titular\n",
        "    self.saldo = saldo\n",
        "  def exibeSaldo(self):\n",
        "    print(f'{self.titular} - - -R$ {self.saldo},00')"
      ],
      "metadata": {
        "id": "biNgwB27pyCT"
      },
      "execution_count": 51,
      "outputs": []
    },
    {
      "cell_type": "code",
      "source": [
        "conta=conta('mardony', 20230001)\n",
        "conta.exibeSaldo()"
      ],
      "metadata": {
        "colab": {
          "base_uri": "https://localhost:8080/"
        },
        "id": "WLc3rUs5qu57",
        "outputId": "6fd48411-f0f9-41fc-c8c8-8bbd9f78b2dd"
      },
      "execution_count": 52,
      "outputs": [
        {
          "output_type": "stream",
          "name": "stdout",
          "text": [
            "mardony - - -R$ 20230001,00\n"
          ]
        }
      ]
    },
    {
      "cell_type": "code",
      "source": [
        "# Herança"
      ],
      "metadata": {
        "id": "0Q-tFtnGtOUD"
      },
      "execution_count": null,
      "outputs": []
    },
    {
      "cell_type": "code",
      "source": [
        "#Classe Animal\n",
        "#super classe\n",
        "class Animal:\n",
        "  def __init__(self, name):\n",
        "    self.name = name\n",
        "  def emitirSom(self):\n",
        "    pass\n",
        "\n",
        "# sub classe\n",
        "class Ovelha(Animal):\n",
        "  def emitirSom(self):\n",
        "    print('Béeeee')\n",
        "\n",
        "#sub classe\n",
        "class Cachorro(Animal):\n",
        "  def emitirSom(self):\n",
        "    print('Au Au')\n",
        "     \n",
        "# sub classe\n",
        "class vaca(Animal):\n",
        "  def emitirSom(self):\n",
        "    print('mun mun')\n",
        "\n",
        "#sub classe \n",
        "class gato(Animal):\n",
        "  def emitirSom(self):\n",
        "    print('miau miau')"
      ],
      "metadata": {
        "id": "F167bRQYrbWT"
      },
      "execution_count": 55,
      "outputs": []
    },
    {
      "cell_type": "code",
      "source": [
        "ovelha= Ovelha('pita')\n",
        "cachorro= Cachorro('jonh')\n",
        "vaquinha= vaca('maria')\n",
        "gatin= gato('marrom')\n",
        "\n",
        "ovelha.emitirSom()\n",
        "cachorro.emitirSom()\n",
        "vaquinha.emitirSom()\n",
        "gatin.emitirSom()\n"
      ],
      "metadata": {
        "colab": {
          "base_uri": "https://localhost:8080/"
        },
        "id": "bbHevwKotioS",
        "outputId": "ac15a36a-4dcb-4c4c-a755-c58b334ea79b"
      },
      "execution_count": 59,
      "outputs": [
        {
          "output_type": "stream",
          "name": "stdout",
          "text": [
            "Béeeee\n",
            "Au Au\n",
            "mun mun\n",
            "miau miau\n"
          ]
        }
      ]
    },
    {
      "cell_type": "code",
      "source": [],
      "metadata": {
        "id": "ac9ab_ZvvnTi"
      },
      "execution_count": null,
      "outputs": []
    }
  ]
}